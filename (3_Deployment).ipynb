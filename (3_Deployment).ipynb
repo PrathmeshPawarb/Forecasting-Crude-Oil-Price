{
  "cells": [
    {
      "cell_type": "code",
      "execution_count": 1,
      "metadata": {
        "colab": {
          "base_uri": "https://localhost:8080/"
        },
        "id": "_p-KstJjoKr_",
        "outputId": "4a396722-5e0f-4e7f-e4b0-8b4c085ca03b"
      },
      "outputs": [
        {
          "output_type": "stream",
          "name": "stdout",
          "text": [
            "\u001b[2K     \u001b[90m━━━━━━━━━━━━━━━━━━━━━━━━━━━━━━━━━━━━━━━━\u001b[0m \u001b[32m8.4/8.4 MB\u001b[0m \u001b[31m21.8 MB/s\u001b[0m eta \u001b[36m0:00:00\u001b[0m\n",
            "\u001b[2K     \u001b[90m━━━━━━━━━━━━━━━━━━━━━━━━━━━━━━━━━━━━━━━━\u001b[0m \u001b[32m190.6/190.6 kB\u001b[0m \u001b[31m24.6 MB/s\u001b[0m eta \u001b[36m0:00:00\u001b[0m\n",
            "\u001b[2K     \u001b[90m━━━━━━━━━━━━━━━━━━━━━━━━━━━━━━━━━━━━━━━━\u001b[0m \u001b[32m4.8/4.8 MB\u001b[0m \u001b[31m56.8 MB/s\u001b[0m eta \u001b[36m0:00:00\u001b[0m\n",
            "\u001b[2K     \u001b[90m━━━━━━━━━━━━━━━━━━━━━━━━━━━━━━━━━━━━━━━━\u001b[0m \u001b[32m82.1/82.1 kB\u001b[0m \u001b[31m12.3 MB/s\u001b[0m eta \u001b[36m0:00:00\u001b[0m\n",
            "\u001b[2K     \u001b[90m━━━━━━━━━━━━━━━━━━━━━━━━━━━━━━━━━━━━━━━━\u001b[0m \u001b[32m62.7/62.7 kB\u001b[0m \u001b[31m7.7 MB/s\u001b[0m eta \u001b[36m0:00:00\u001b[0m\n",
            "\u001b[?25h"
          ]
        }
      ],
      "source": [
        "! pip install streamlit -q"
      ]
    },
    {
      "cell_type": "code",
      "execution_count": 2,
      "metadata": {
        "colab": {
          "base_uri": "https://localhost:8080/"
        },
        "id": "F4GL9nnEoLZO",
        "outputId": "3a2c64e9-6931-43fd-af0a-ee437fae7adf"
      },
      "outputs": [
        {
          "output_type": "stream",
          "name": "stdout",
          "text": [
            "34.125.161.250\n"
          ]
        }
      ],
      "source": [
        "! wget -q -O - ipv4.icanhazip.com"
      ]
    },
    {
      "cell_type": "code",
      "execution_count": null,
      "metadata": {
        "colab": {
          "base_uri": "https://localhost:8080/"
        },
        "id": "Whwk92xJvCwY",
        "outputId": "a89c3cc2-bbf7-46de-d55c-4373a379a964"
      },
      "outputs": [
        {
          "metadata": {
            "tags": null
          },
          "name": "stdout",
          "output_type": "stream",
          "text": [
            "\u001b[?25l[..................] / rollbackFailedOptional: verb npm-session 66a2792ab4d0c5c\u001b[0m\u001b[K\n",
            "Collecting usage statistics. To deactivate, set browser.gatherUsageStats to False.\n",
            "\u001b[0m\n",
            "\u001b[0m\n",
            "\u001b[34m\u001b[1m  You can now view your Streamlit app in your browser.\u001b[0m\n",
            "\u001b[0m\n",
            "\u001b[34m  Network URL: \u001b[0m\u001b[1mhttp://172.28.0.12:8501\u001b[0m\n",
            "\u001b[34m  External URL: \u001b[0m\u001b[1mhttp://34.125.161.250:8501\u001b[0m\n",
            "\u001b[0m\n",
            "\u001b[K\u001b[?25hnpx: installed 22 in 6.654s\n",
            "your url is: https://dark-beans-fall.loca.lt\n"
          ]
        }
      ],
      "source": [
        "!streamlit run app.py & npx localtunnel --port 8501"
      ]
    },
    {
      "cell_type": "code",
      "execution_count": null,
      "metadata": {
        "id": "QC0nsGBaoLTn"
      },
      "outputs": [],
      "source": [
        "# streamlit code in (app.py) file\n",
        "\n",
        "\"\"\"\n",
        "import pandas as pd\n",
        "import numpy as np\n",
        "import streamlit as st\n",
        "\n",
        "result = pd.read_csv('/content/forecasted_result.csv')\n",
        "\n",
        "# Convert the 'Date' column to a datetime object in the same format as selected_date\n",
        "result['Date'] = pd.to_datetime(result['Date']).dt.strftime(\"%Y-%m-%d\")\n",
        "\n",
        "# Streamlit web application\n",
        "st.title(\"Oil Price Forecasting App\")\n",
        "\n",
        "# Define the minimum and maximum date values\n",
        "min_date = pd.to_datetime(\"2023-10-13\")\n",
        "max_date = pd.to_datetime(\"2024-10-09\")\n",
        "\n",
        "# Get the user's input date\n",
        "forecast_date = st.date_input(\"Enter Date to forecast:\", min_value=min_date, max_value=max_date, value=min_date)\n",
        "\n",
        "# Format the selected date as a string\n",
        "selected_date = forecast_date.strftime(\"%Y-%m-%d\")\n",
        "\n",
        "# Check if the selected date exists in the index\n",
        "if selected_date in result['Date'].values:\n",
        "    forecasted_price = result.loc[result['Date'] == selected_date, \"Forecasted_value\"].values[0]\n",
        "    # Display the forecasted price\n",
        "    st.write(f\"Forecasted Price on {selected_date} is {forecasted_price:.2f}\")\n",
        "else:\n",
        "    st.write(f\"No forecast data available for {selected_date}\")\n",
        "\n",
        "import matplotlib.pyplot as plt\n",
        "st.write(\"Line Plot of Closing and Forecasted Values:\")\n",
        "plt.figure(figsize=(10, 6))\n",
        "result['Closing_value'].plot()\n",
        "result['Forecasted_value'].plot()\n",
        "plt.xlabel('Date')\n",
        "plt.ylabel('Value')\n",
        "plt.title('Closing Value vs Forecasted Value')\n",
        "plt.legend()\n",
        "st.pyplot(plt)\n",
        "\n",
        "\"\"\""
      ]
    },
    {
      "cell_type": "code",
      "execution_count": null,
      "metadata": {
        "id": "hRm0i_g2oLRB"
      },
      "outputs": [],
      "source": []
    }
  ],
  "metadata": {
    "colab": {
      "provenance": []
    },
    "kernelspec": {
      "display_name": "Python 3",
      "name": "python3"
    },
    "language_info": {
      "name": "python"
    }
  },
  "nbformat": 4,
  "nbformat_minor": 0
}